{
 "cells": [
  {
   "cell_type": "code",
   "execution_count": 27,
   "id": "33900925",
   "metadata": {},
   "outputs": [],
   "source": [
    "import numpy as np\n",
    "import matplotlib.pyplot as plt \n",
    "import random"
   ]
  },
  {
   "cell_type": "code",
   "execution_count": 28,
   "id": "0c7d5ab6",
   "metadata": {},
   "outputs": [],
   "source": [
    "arrival_time=np.zeros(11)\n",
    "completion_time=np.zeros(11)\n",
    "waiting_time=np.zeros(11)\n",
    "system_time=np.zeros(11)\n",
    "start_time=np.zeros(11)\n",
    "avg_sys_time=0\n",
    "avg_wi_time=0\n",
    "avg_IAT=0\n",
    "avg_st=0\n",
    "st=np.random.normal(2,0.5,11)    # Service time"
   ]
  },
  {
   "cell_type": "code",
   "execution_count": 29,
   "id": "b10e040e",
   "metadata": {},
   "outputs": [],
   "source": [
    "i=1\n",
    "while i<=10:\n",
    "    r=np.round(random.random(),1)\n",
    "    IAT=np.round(r*5,2)\n",
    "    arrival_time[i]=arrival_time[i-1]+IAT\n",
    "    if arrival_time[i]>=completion_time[i-1]:     #The atm is empty\n",
    "        start_time[i]=arrival_time[i]\n",
    "    else:\n",
    "        start_time[i]=completion_time[i-1]       #the atm is busy\n",
    "    waiting_time[i]=start_time[i]-arrival_time[i]\n",
    "    completion_time[i]=start_time[i]+st[i]\n",
    "    system_time[i]=completion_time[i]-arrival_time[i]\n",
    "    avg_sys_time+=system_time[i]\n",
    "    avg_wi_time+=waiting_time[i]\n",
    "    avg_IAT+=IAT\n",
    "    avg_st+=st[i]\n",
    "    i=i+1\n",
    "        "
   ]
  },
  {
   "cell_type": "code",
   "execution_count": 30,
   "id": "973bec16",
   "metadata": {},
   "outputs": [],
   "source": [
    "avg_sys_time/=10\n",
    "avg_sys_time=np.round(avg_sys_time,2)\n",
    "avg_wi_time/=10\n",
    "avg_wi_time=np.round(avg_wi_time,2)\n",
    "avg_IAT/=10\n",
    "avg_IAT=np.round(avg_IAT,2)\n",
    "avg_st/=10\n",
    "avg_st=np.round(avg_st,2)"
   ]
  },
  {
   "cell_type": "code",
   "execution_count": 31,
   "id": "7ab50006",
   "metadata": {},
   "outputs": [
    {
     "name": "stdout",
     "output_type": "stream",
     "text": [
      "The average of waiting time is 1.63 min\n",
      "The average of system time is 3.45 min\n",
      "The average of inter arrival time is 1.7 min\n",
      "The average of service time is 1.81 min\n"
     ]
    }
   ],
   "source": [
    "print(f\"The average of waiting time is {avg_wi_time} min\")\n",
    "print(f\"The average of system time is {avg_sys_time} min\")\n",
    "print(f\"The average of inter arrival time is {avg_IAT} min\")\n",
    "print(f\"The average of service time is {avg_st} min\")"
   ]
  },
  {
   "cell_type": "code",
   "execution_count": 32,
   "id": "21c7f849",
   "metadata": {},
   "outputs": [
    {
     "data": {
      "image/png": "[encoded data removed]",
      "text/plain": [
       "<Figure size 432x288 with 1 Axes>"
      ]
     },
     "metadata": {
      "needs_background": "light"
     },
     "output_type": "display_data"
    }
   ],
   "source": [
    "plt.hist(arrival_time)\n",
    "plt.show()"
   ]
  },
  {
   "cell_type": "code",
   "execution_count": 33,
   "id": "e6fc33e4",
   "metadata": {},
   "outputs": [
    {
     "data": {
      "image/png": "[encoded data removed]",
      "text/plain": [
       "<Figure size 432x288 with 1 Axes>"
      ]
     },
     "metadata": {
      "needs_background": "light"
     },
     "output_type": "display_data"
    }
   ],
   "source": [
    "plt.hist(completion_time)\n",
    "plt.show()"
   ]
  },
  {
   "cell_type": "code",
   "execution_count": 34,
   "id": "5cad3049",
   "metadata": {},
   "outputs": [
    {
     "data": {
      "image/png": "[encoded data removed]",
      "text/plain": [
       "<Figure size 432x288 with 1 Axes>"
      ]
     },
     "metadata": {
      "needs_background": "light"
     },
     "output_type": "display_data"
    }
   ],
   "source": [
    "plt.hist(waiting_time)\n",
    "plt.show()"
   ]
  },
  {
   "cell_type": "code",
   "execution_count": 35,
   "id": "a82bff5f",
   "metadata": {},
   "outputs": [
    {
     "data": {
      "image/png": "[encoded data removed]",
      "text/plain": [
       "<Figure size 432x288 with 1 Axes>"
      ]
     },
     "metadata": {
      "needs_background": "light"
     },
     "output_type": "display_data"
    }
   ],
   "source": [
    "plt.hist(system_time)\n",
    "plt.show()"
   ]
  },
  {
   "cell_type": "code",
   "execution_count": 36,
   "id": "8833a3d9",
   "metadata": {},
   "outputs": [
    {
     "data": {
      "image/png": "[encoded data removed]",
      "text/plain": [
       "<Figure size 432x288 with 1 Axes>"
      ]
     },
     "metadata": {
      "needs_background": "light"
     },
     "output_type": "display_data"
    }
   ],
   "source": [
    "plt.hist(st)\n",
    "plt.show()"
   ]
  },
  {
   "cell_type": "code",
   "execution_count": null,
   "id": "e5315a03",
   "metadata": {},
   "outputs": [],
   "source": []
  }
 ],
 "metadata": {
  "kernelspec": {
   "display_name": "Python 3 (ipykernel)",
   "language": "python",
   "name": "python3"
  },
  "language_info": {
   "codemirror_mode": {
    "name": "ipython",
    "version": 3
   },
   "file_extension": ".py",
   "mimetype": "text/x-python",
   "name": "python",
   "nbconvert_exporter": "python",
   "pygments_lexer": "ipython3",
   "version": "3.9.7"
  }
 },
 "nbformat": 4,
 "nbformat_minor": 5
}
